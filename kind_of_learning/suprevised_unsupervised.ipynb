{
 "cells": [
  {
   "cell_type": "code",
   "execution_count": 5,
   "metadata": {
    "collapsed": true
   },
   "outputs": [],
   "source": [
    "import matplotlib.pyplot as plt\n",
    "import numpy as np\n",
    "import pandas as pd\n",
    "import seaborn as sns\n",
    "\n",
    "from sklearn import datasets\n",
    "from sklearn import manifold\n",
    "\n",
    "%matplotlib inline"
   ]
  },
  {
   "cell_type": "code",
   "execution_count": 6,
   "outputs": [
    {
     "data": {
      "text/plain": "(       pixel1  pixel2  pixel3  pixel4  pixel5  pixel6  pixel7  pixel8  pixel9  \\\n 0         0.0     0.0     0.0     0.0     0.0     0.0     0.0     0.0     0.0   \n 1         0.0     0.0     0.0     0.0     0.0     0.0     0.0     0.0     0.0   \n 2         0.0     0.0     0.0     0.0     0.0     0.0     0.0     0.0     0.0   \n 3         0.0     0.0     0.0     0.0     0.0     0.0     0.0     0.0     0.0   \n 4         0.0     0.0     0.0     0.0     0.0     0.0     0.0     0.0     0.0   \n ...       ...     ...     ...     ...     ...     ...     ...     ...     ...   \n 69995     0.0     0.0     0.0     0.0     0.0     0.0     0.0     0.0     0.0   \n 69996     0.0     0.0     0.0     0.0     0.0     0.0     0.0     0.0     0.0   \n 69997     0.0     0.0     0.0     0.0     0.0     0.0     0.0     0.0     0.0   \n 69998     0.0     0.0     0.0     0.0     0.0     0.0     0.0     0.0     0.0   \n 69999     0.0     0.0     0.0     0.0     0.0     0.0     0.0     0.0     0.0   \n \n        pixel10  ...  pixel775  pixel776  pixel777  pixel778  pixel779  \\\n 0          0.0  ...       0.0       0.0       0.0       0.0       0.0   \n 1          0.0  ...       0.0       0.0       0.0       0.0       0.0   \n 2          0.0  ...       0.0       0.0       0.0       0.0       0.0   \n 3          0.0  ...       0.0       0.0       0.0       0.0       0.0   \n 4          0.0  ...       0.0       0.0       0.0       0.0       0.0   \n ...        ...  ...       ...       ...       ...       ...       ...   \n 69995      0.0  ...       0.0       0.0       0.0       0.0       0.0   \n 69996      0.0  ...       0.0       0.0       0.0       0.0       0.0   \n 69997      0.0  ...       0.0       0.0       0.0       0.0       0.0   \n 69998      0.0  ...       0.0       0.0       0.0       0.0       0.0   \n 69999      0.0  ...       0.0       0.0       0.0       0.0       0.0   \n \n        pixel780  pixel781  pixel782  pixel783  pixel784  \n 0           0.0       0.0       0.0       0.0       0.0  \n 1           0.0       0.0       0.0       0.0       0.0  \n 2           0.0       0.0       0.0       0.0       0.0  \n 3           0.0       0.0       0.0       0.0       0.0  \n 4           0.0       0.0       0.0       0.0       0.0  \n ...         ...       ...       ...       ...       ...  \n 69995       0.0       0.0       0.0       0.0       0.0  \n 69996       0.0       0.0       0.0       0.0       0.0  \n 69997       0.0       0.0       0.0       0.0       0.0  \n 69998       0.0       0.0       0.0       0.0       0.0  \n 69999       0.0       0.0       0.0       0.0       0.0  \n \n [70000 rows x 784 columns],\n 0        5\n 1        0\n 2        4\n 3        1\n 4        9\n         ..\n 69995    2\n 69996    3\n 69997    4\n 69998    5\n 69999    6\n Name: class, Length: 70000, dtype: category\n Categories (10, object): ['0', '1', '2', '3', ..., '6', '7', '8', '9'])"
     },
     "execution_count": 6,
     "metadata": {},
     "output_type": "execute_result"
    }
   ],
   "source": [
    "data = datasets.fetch_openml('mnist_784',version = 1, return_X_y = True)\n",
    "data"
   ],
   "metadata": {
    "collapsed": false
   }
  },
  {
   "cell_type": "code",
   "execution_count": 12,
   "outputs": [
    {
     "name": "stdout",
     "output_type": "stream",
     "text": [
      "<class 'pandas.core.series.Series'>\n",
      "0        5\n",
      "1        0\n",
      "2        4\n",
      "3        1\n",
      "4        9\n",
      "        ..\n",
      "69995    2\n",
      "69996    3\n",
      "69997    4\n",
      "69998    5\n",
      "69999    6\n",
      "Name: class, Length: 70000, dtype: category\n",
      "Categories (10, object): ['0', '1', '2', '3', ..., '6', '7', '8', '9']\n",
      "0        5\n",
      "1        0\n",
      "2        4\n",
      "3        1\n",
      "4        9\n",
      "        ..\n",
      "69995    2\n",
      "69996    3\n",
      "69997    4\n",
      "69998    5\n",
      "69999    6\n",
      "Name: class, Length: 70000, dtype: int64\n"
     ]
    }
   ],
   "source": [
    "pixel_values, targets = data\n",
    "print(type(targets))\n",
    "print(targets)\n",
    "targets = targets.astype(int)\n",
    "print(targets)"
   ],
   "metadata": {
    "collapsed": false
   }
  },
  {
   "cell_type": "code",
   "execution_count": 14,
   "outputs": [
    {
     "name": "stdout",
     "output_type": "stream",
     "text": [
      "<class 'pandas.core.frame.DataFrame'>\n",
      "       pixel1  pixel2  pixel3  pixel4  pixel5  pixel6  pixel7  pixel8  pixel9  \\\n",
      "0         0.0     0.0     0.0     0.0     0.0     0.0     0.0     0.0     0.0   \n",
      "1         0.0     0.0     0.0     0.0     0.0     0.0     0.0     0.0     0.0   \n",
      "2         0.0     0.0     0.0     0.0     0.0     0.0     0.0     0.0     0.0   \n",
      "3         0.0     0.0     0.0     0.0     0.0     0.0     0.0     0.0     0.0   \n",
      "4         0.0     0.0     0.0     0.0     0.0     0.0     0.0     0.0     0.0   \n",
      "...       ...     ...     ...     ...     ...     ...     ...     ...     ...   \n",
      "69995     0.0     0.0     0.0     0.0     0.0     0.0     0.0     0.0     0.0   \n",
      "69996     0.0     0.0     0.0     0.0     0.0     0.0     0.0     0.0     0.0   \n",
      "69997     0.0     0.0     0.0     0.0     0.0     0.0     0.0     0.0     0.0   \n",
      "69998     0.0     0.0     0.0     0.0     0.0     0.0     0.0     0.0     0.0   \n",
      "69999     0.0     0.0     0.0     0.0     0.0     0.0     0.0     0.0     0.0   \n",
      "\n",
      "       pixel10  ...  pixel775  pixel776  pixel777  pixel778  pixel779  \\\n",
      "0          0.0  ...       0.0       0.0       0.0       0.0       0.0   \n",
      "1          0.0  ...       0.0       0.0       0.0       0.0       0.0   \n",
      "2          0.0  ...       0.0       0.0       0.0       0.0       0.0   \n",
      "3          0.0  ...       0.0       0.0       0.0       0.0       0.0   \n",
      "4          0.0  ...       0.0       0.0       0.0       0.0       0.0   \n",
      "...        ...  ...       ...       ...       ...       ...       ...   \n",
      "69995      0.0  ...       0.0       0.0       0.0       0.0       0.0   \n",
      "69996      0.0  ...       0.0       0.0       0.0       0.0       0.0   \n",
      "69997      0.0  ...       0.0       0.0       0.0       0.0       0.0   \n",
      "69998      0.0  ...       0.0       0.0       0.0       0.0       0.0   \n",
      "69999      0.0  ...       0.0       0.0       0.0       0.0       0.0   \n",
      "\n",
      "       pixel780  pixel781  pixel782  pixel783  pixel784  \n",
      "0           0.0       0.0       0.0       0.0       0.0  \n",
      "1           0.0       0.0       0.0       0.0       0.0  \n",
      "2           0.0       0.0       0.0       0.0       0.0  \n",
      "3           0.0       0.0       0.0       0.0       0.0  \n",
      "4           0.0       0.0       0.0       0.0       0.0  \n",
      "...         ...       ...       ...       ...       ...  \n",
      "69995       0.0       0.0       0.0       0.0       0.0  \n",
      "69996       0.0       0.0       0.0       0.0       0.0  \n",
      "69997       0.0       0.0       0.0       0.0       0.0  \n",
      "69998       0.0       0.0       0.0       0.0       0.0  \n",
      "69999       0.0       0.0       0.0       0.0       0.0  \n",
      "\n",
      "[70000 rows x 784 columns]\n"
     ]
    }
   ],
   "source": [
    "print(type(pixel_values))\n",
    "print(pixel_values)"
   ],
   "metadata": {
    "collapsed": false
   }
  },
  {
   "cell_type": "code",
   "execution_count": null,
   "outputs": [],
   "source": [],
   "metadata": {
    "collapsed": false
   }
  }
 ],
 "metadata": {
  "kernelspec": {
   "display_name": "Python 3",
   "language": "python",
   "name": "python3"
  },
  "language_info": {
   "codemirror_mode": {
    "name": "ipython",
    "version": 2
   },
   "file_extension": ".py",
   "mimetype": "text/x-python",
   "name": "python",
   "nbconvert_exporter": "python",
   "pygments_lexer": "ipython2",
   "version": "2.7.6"
  }
 },
 "nbformat": 4,
 "nbformat_minor": 0
}
